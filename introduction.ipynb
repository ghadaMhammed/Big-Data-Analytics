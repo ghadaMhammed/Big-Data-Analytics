{
 "cells": [
  {
   "cell_type": "markdown",
   "id": "d2b52306",
   "metadata": {},
   "source": [
    "# Differences between big data and traditional data\n",
    "\n",
    "Simple! only ***the type of data handled and the tools used to analyze it.*** Thats it!\n",
    "\n",
    "Usually traditional analytics deals with **structured data**, while big data analytics involves massive amounts of data in various formats, including **structured**, **semi-structured** and **unstructured** data."
   ]
  },
  {
   "cell_type": "markdown",
   "id": "cd333e50",
   "metadata": {},
   "source": [
    "# Five V’s of Big Data\n",
    "\n",
    "Five V’s of Big Data are key characteristics that define the challenges and opportunities of handling large-scale data systems.\n",
    "\n",
    "| V-Term     | Description                                                                                   |\n",
    "|------------|-----------------------------------------------------------------------------------------------|\n",
    "| **Volume**   | Refers to the massive scale of data generated from sources like social media and IoT, requiring scalable and cost-effective storage solutions. |\n",
    "| **Velocity** | Describes the high speed at which data is created and needs to be processed, often in real-time, using technologies like stream processing. |\n",
    "| **Variety**  | Highlights the wide range of data types—structured, semi-structured, and unstructured—necessitating flexible data management approaches. |\n",
    "| **Veracity** | Concerns the reliability and quality of data, emphasizing the importance of validation, cleaning, and anomaly detection. |\n",
    "| **Value**    | Focuses on extracting meaningful insights from data to support decision-making, innovation, and strategic growth. |\n",
    "\n"
   ]
  },
  {
   "cell_type": "markdown",
   "id": "739daaab",
   "metadata": {},
   "source": [
    "# Stages of big data analytics\n",
    "\n",
    "Nothing different, just like the traditional data stages, but different strategies.\n",
    "\n",
    "- **Collect data**: only big data involve collecting data from various sources, including structured and unstructured formats.\n",
    "\n",
    "- **Process data**: Both require systematic processing to convert raw data into usable formats for analysis.\n",
    "\n",
    "- **Clean data**: Both necessitate data cleaning to ensure accuracy, remove duplicates, and maintain data quality.\n",
    "\n",
    "- **Analyze data**: Both apply analytical techniques to identify patterns, trends, and support decision-making.\n"
   ]
  },
  {
   "cell_type": "markdown",
   "id": "e3255ddb",
   "metadata": {},
   "source": [
    "# 17 Important Terms You Should Know\n",
    "\n",
    "This guide breaks down the most common terms in the Big Data field:\n",
    "\n",
    "| Term                                 | Definition                                                                                                                                                                                                                                                                                    |\n",
    "|------------------------------------|---------------------------------------------------------------------------------------------------------------------------------------------------------------------------------------------------------------------------------------------------------------------------------------------|\n",
    "| Big Data                           | Large and complex datasets that traditional data processing tools cannot handle effectively.                                                                                                                                                                                                  |\n",
    "| Data Lake                         | A centralized repository that allows you to store all your structured and unstructured data at any scale.                                                                                                                                                                                     |\n",
    "| NoSQL Databases                   | Non-relational databases such as MongoDB, Cassandra, and Redis designed to handle unstructured data.                                                                                                                                                                                          |\n",
    "| ETL (Extract, Transform, Load)    | A process that extracts data from various sources, transforms it for analysis, and loads it into a data warehouse.                                                                                                                                                                            |\n",
    "| Data Mining                      | The process of discovering patterns and knowledge from large datasets.                                                                                                                                                                                                                        |\n",
    "| Stream Processing                | Real-time processing of data streams, as opposed to batch processing.                                                                                                                                                                                                                         |\n",
    "| Data Visualization              | The graphical representation of data that makes it easier to understand and interpret.                                                                                                                                                                                                         |\n",
    "| Web Crawler                     | A bot or automated program that systematically browses the internet to index and collect data from websites.                                                                                                                                                                                  |\n",
    "| Data Warehouse                 | A central repository that stores processed data for reporting and analysis.                                                                                                                                                                                                                        |\n",
    "| Data Pipeline                  | A set of automated processes that move data from one system to another, transforming it along the way.                                                                                                                                                                                        |\n",
    "| Metadata                      | Data that describes other data, providing context or additional information.                                                                                                                                                                                                                  |\n",
    "| Batch Processing              | A method of processing large volumes of data at once, typically at scheduled intervals.                                                                                                                                                                                                       |\n",
    "| Data Sharding                | A database architecture pattern where data is partitioned across multiple servers to improve performance and scalability.                                                                                                                                                                     |\n",
    "| Data Governance            | The set of processes, policies, and standards used to ensure proper management of data assets.                                                                                                                                                                                                |\n",
    "| Data Cleaning              | The process of identifying and correcting errors, inconsistencies, or inaccuracies in a dataset.                                                                                                                                                                                              |\n",
    "| OLAP (Online Analytical Processing)  | Software technology that allows users to analyze information from multiple database systems at the same time. It is based on a multidimensional data model and allows querying multi-dimensional data. Widely used for Business Intelligence (BI). Example: Analyzing sales data by region, product, and time.                                                      |\n",
    "| OLTP (Online Transaction Processing) | A technology focused on managing transaction-oriented applications like order processing or banking systems. Example: A database handling real-time transactions on an e-commerce platform. Ensures efficient and reliable management of day-to-day operations in transactional systems. |\n"
   ]
  },
  {
   "cell_type": "markdown",
   "id": "4c0e7d6a",
   "metadata": {},
   "source": [
    "# What is a Distributed System?\n",
    "\n",
    "A distributed system is like a team of computers that work together to complete a task, but each computer is separate and may be located far apart.\n",
    "\n",
    "<img src=\"https://www.sangam.dev/_next/image?url=%2Fimages%2Fblog%2F2022%2Fdistributed-systems.jpg&w=3840&q=75\" width=\"400\">\n",
    "\n",
    "<a href=\"https://www.sangam.dev/blog/2022/distributed-systems-key-concepts-and-challenges\">Image source</a>\n",
    "\n",
    "#### Why use distributed systems?\n",
    "\n",
    "- To get work done faster by splitting tasks.\n",
    "\n",
    "- To handle more data or users than one computer can.\n",
    "\n",
    "- To keep working even if one computer fails (reliable).\n",
    "\n",
    "**Example:** Online shopping websites use distributed systems to handle many users at once."
   ]
  },
  {
   "cell_type": "markdown",
   "id": "9dcac0ba",
   "metadata": {},
   "source": [
    "# Relationship Between Big Data and Distributed Systems\n",
    "\n",
    "Big Data involves extremely large and complex datasets that cannot be processed efficiently on a single machine. \n",
    "\n",
    "1. **Data Distribution:**  \n",
    "   Distributed systems split big datasets into smaller chunks and store them across multiple machines (nodes). \n",
    "\n",
    "2. **Parallel Processing:**  \n",
    "   Analytics tasks are divided into smaller subtasks, each running simultaneously on different nodes. This parallelism drastically reduces the time needed to analyze huge volumes of data.\n",
    "\n",
    "3. **Data Locality Optimization:**  \n",
    "   Distributed systems often move computation close to where data is stored (data locality).\n",
    "\n",
    "4. **Fault Tolerance and Reliability:**  \n",
    "   Data is replicated across multiple nodes. If one node fails during analysis, the system can continue processing using replicas.\n",
    "\n",
    "5. **Scalability:**  \n",
    "   Adding more machines to the system easily increases storage and processing power, allowing analytics to scale smoothly as data grows.\n",
    "\n",
    "In summary, distributed systems provide the scalable, reliable infrastructure and parallel computation capabilities that Big Data analytics requires to efficiently process and gain insights from massive datasets."
   ]
  },
  {
   "cell_type": "markdown",
   "id": "e9b1df3c",
   "metadata": {},
   "source": [
    "# Simple Real-World Example: How Distributed Systems Help Big Data Analytics\n",
    "\n",
    "Imagine a popular video streaming service like `Netflix`.\n",
    "\n",
    "- Every second, millions of users watch videos and generate data (which videos they watch, for how long, ratings, etc.).\n",
    "\n",
    "- This data is too big to store or analyze on one computer.\n",
    "\n",
    "- So, Netflix uses a **distributed system**, which means the data is split and saved across many computers around the world working together.\n",
    "\n",
    "- When Netflix wants to find out which shows are most popular, it sends parts of the data to different computers to analyze at the same time.\n",
    "\n",
    "- Each computer processes its part quickly and sends back the results.\n",
    "\n",
    "- Finally, Netflix combines all these results to understand viewers' habits and recommend new shows."
   ]
  },
  {
   "cell_type": "markdown",
   "id": "d928dc98",
   "metadata": {},
   "source": [
    "# Tools that help in Big data analytics\n",
    "\n",
    "## 1. Data Storage\n",
    "- **Google BigQuery**: Fully managed, serverless data warehouse with super-fast SQL queries and scalable storage. \n",
    "- **Amazon S3**: Scalable, durable cloud storage widely used for big data storage in enterprise environments.\n",
    "\n",
    "## 2. Data Processing\n",
    "- **Apache Spark**: Fast, in-memory processing engine supporting batch and real-time analytics.\n",
    "- **Databricks**: Unified analytics platform based on Apache Spark, with enhanced collaboration, management, and optimization features.   \n",
    "\n",
    "## 3. Data Ingestion\n",
    "- **Apache Kafka**: Distributed messaging system for real-time data streaming and ingestion.  \n",
    "- **AWS Kinesis**: Cloud-based streaming service to collect, process, and analyze real-time data.\n",
    "\n",
    "## 4. Data Querying and Warehousing\n",
    "- **Apache Hive**: Data warehouse built on Hadoop for SQL-like querying on large datasets.  \n",
    "- **Snowflake**: Cloud data platform providing scalable data warehousing and analytics.\n",
    "\n",
    "## 5. Data Visualization and Reporting\n",
    "- **Tableau**: Industry-leading visualization tool for creating interactive dashboards and reports.  \n",
    "- **Microsoft Power BI**: Business analytics platform with rich visualization and integration capabilities."
   ]
  },
  {
   "cell_type": "markdown",
   "id": "72d6e23c",
   "metadata": {},
   "source": [
    "# Sources:\n",
    "<a href=\"https://www.ibm.com/think/topics/big-data-analytics\">IBM</a>\n",
    "\n",
    "<a hre=\"https://www.webdevstory.com/big-data-terms-and-definitions/\">webdevstory</a>"
   ]
  }
 ],
 "metadata": {
  "language_info": {
   "name": "python"
  }
 },
 "nbformat": 4,
 "nbformat_minor": 5
}
